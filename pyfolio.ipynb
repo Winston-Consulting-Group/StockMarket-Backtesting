{
 "cells": [
  {
   "cell_type": "code",
   "execution_count": 1,
   "metadata": {
    "scrolled": false
   },
   "outputs": [
    {
     "name": "stderr",
     "output_type": "stream",
     "text": [
      "/Library/Frameworks/Python.framework/Versions/3.8/lib/python3.8/site-packages/pandas_datareader/compat/__init__.py:7: FutureWarning: pandas.util.testing is deprecated. Use the functions in the public API at pandas.testing instead.\n",
      "  from pandas.util.testing import assert_frame_equal\n",
      "/Library/Frameworks/Python.framework/Versions/3.8/lib/python3.8/site-packages/pyfolio/pos.py:26: UserWarning: Module \"zipline.assets\" not found; multipliers will not be applied to position notionals.\n",
      "  warnings.warn(\n"
     ]
    }
   ],
   "source": [
    "from __future__ import (absolute_import, division, print_function, unicode_literals)\n",
    "import datetime\n",
    "import os.path\n",
    "import sys\n",
    "import backtrader as bt\n",
    "import backtrader.analyzers as btanalyzers\n",
    "import backtrader.feeds as btfeeds\n",
    "import backtrader.strategies as btstrats\n",
    "import pyfolio as pf\n",
    "import datetime\n",
    "import backtrader.feeds as btfeed\n",
    "import pandas as pd\n",
    "import io\n",
    "# from strategies.crossover_9_21_with_swing import Crossover9_21WithSwing\n",
    "from strategies.delta_spread import DeltaSpread\n",
    "from option_data_feed import OptionDataFeed\n",
    "import warnings; warnings.simplefilter('ignore')\n",
    "\n",
    "all_option_data_october = pd.read_csv('./data/options_data/all_options_data.csv')\n",
    "underyling_data = pd.read_csv('./data/SPY.csv', parse_dates=True, index_col=0)\n",
    "underlying = bt.feeds.PandasData(dataname=underyling_data)\n",
    "\n",
    "def create_data_feed(pd_data, series_name):\n",
    "    s_buf = io.StringIO()\n",
    "    pd_data.to_csv(s_buf)\n",
    "    s_buf.seek(0)\n",
    "    option_feed = OptionDataFeed(\n",
    "        dataname=s_buf,\n",
    "        datetime=8,\n",
    "        high=None,\n",
    "        low=None,\n",
    "        open=12,\n",
    "        close=12,\n",
    "        volume=13,\n",
    "        openinterest=14,\n",
    "        dtformat=('%m/%d/%Y'),\n",
    "        name=series_name)\n",
    "    return option_feed\n",
    "\n",
    "def add_options_data():\n",
    "    option_types = ['call', 'put']\n",
    "    option_expirations = all_option_data_october['expiration'].unique()\n",
    "    option_strikes = all_option_data_october['strike'].unique()\n",
    "    for type in option_types:\n",
    "        is_type = all_option_data_october['type'] == 'call'\n",
    "        filtered_by_type = all_option_data_october[is_type]\n",
    "        for expiration in option_expirations:\n",
    "            is_expiration = filtered_by_type['expiration'] == expiration\n",
    "            filtered_by_type_expiration = filtered_by_type[is_expiration]\n",
    "            for strike in option_strikes:\n",
    "                is_strike = filtered_by_type_expiration['strike'] == strike\n",
    "                filtered_by_type_expiration_strike = filtered_by_type_expiration[is_strike]\n",
    "                if not filtered_by_type_expiration_strike.empty:\n",
    "                    series_name = type + \"_\" + str(strike) + \"_\" + str(expiration)\n",
    "                    single_option_data = create_data_feed(filtered_by_type_expiration_strike, series_name)\n",
    "                    cerebro.adddata(single_option_data)"
   ]
  },
  {
   "cell_type": "code",
   "execution_count": null,
   "metadata": {
    "scrolled": false
   },
   "outputs": [],
   "source": [
    "cerebro = bt.Cerebro()\n",
    "cerebro.addstrategy(DeltaSpread, printlog=True)\n",
    "\n",
    "cerebro.adddata(underlying)\n",
    "add_options_data()\n",
    "cerebro.broker.setcash(100000.0)\n",
    "cerebro.addsizer(bt.sizers.FixedSize, stake=1)\n",
    "cerebro.broker.setcommission(commission=0.65, margin=33000, mult=100)\n",
    "\n",
    "cerebro.addanalyzer(bt.analyzers.PyFolio, _name='pyfolio')\n",
    "results = cerebro.run()\n",
    "strat = results[0]\n",
    "pyfoliozer = strat.analyzers.getbyname('pyfolio')\n",
    "returns, positions, transactions, gross_lev = pyfoliozer.get_pf_items()\n",
    "pf.create_full_tear_sheet(returns)"
   ]
  },
  {
   "cell_type": "code",
   "execution_count": null,
   "metadata": {},
   "outputs": [],
   "source": []
  }
 ],
 "metadata": {
  "kernelspec": {
   "display_name": "Python 3",
   "language": "python",
   "name": "python3"
  },
  "language_info": {
   "codemirror_mode": {
    "name": "ipython",
    "version": 3
   },
   "file_extension": ".py",
   "mimetype": "text/x-python",
   "name": "python",
   "nbconvert_exporter": "python",
   "pygments_lexer": "ipython3",
   "version": "3.8.0"
  }
 },
 "nbformat": 4,
 "nbformat_minor": 4
}
